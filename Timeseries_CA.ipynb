{
 "cells": [
  {
   "cell_type": "code",
   "execution_count": 1,
   "id": "53797691",
   "metadata": {},
   "outputs": [],
   "source": [
    "import pandas as pd \n",
    "import matplotlib.pyplot as plt \n"
   ]
  },
  {
   "cell_type": "code",
   "execution_count": 11,
   "id": "2ee84e13",
   "metadata": {},
   "outputs": [],
   "source": [
    "df = pd.read_csv('Google_1.csv')"
   ]
  },
  {
   "cell_type": "code",
   "execution_count": 12,
   "id": "a5d4718c",
   "metadata": {},
   "outputs": [
    {
     "data": {
      "text/html": [
       "<div>\n",
       "<style scoped>\n",
       "    .dataframe tbody tr th:only-of-type {\n",
       "        vertical-align: middle;\n",
       "    }\n",
       "\n",
       "    .dataframe tbody tr th {\n",
       "        vertical-align: top;\n",
       "    }\n",
       "\n",
       "    .dataframe thead th {\n",
       "        text-align: right;\n",
       "    }\n",
       "</style>\n",
       "<table border=\"1\" class=\"dataframe\">\n",
       "  <thead>\n",
       "    <tr style=\"text-align: right;\">\n",
       "      <th></th>\n",
       "      <th>Date</th>\n",
       "      <th>Open</th>\n",
       "      <th>High</th>\n",
       "      <th>Low</th>\n",
       "      <th>Close</th>\n",
       "      <th>Adj Close</th>\n",
       "      <th>Volume</th>\n",
       "    </tr>\n",
       "  </thead>\n",
       "  <tbody>\n",
       "    <tr>\n",
       "      <th>0</th>\n",
       "      <td>2010-01-04</td>\n",
       "      <td>15.615220</td>\n",
       "      <td>15.678981</td>\n",
       "      <td>15.547723</td>\n",
       "      <td>15.610239</td>\n",
       "      <td>15.610239</td>\n",
       "      <td>78541293</td>\n",
       "    </tr>\n",
       "    <tr>\n",
       "      <th>1</th>\n",
       "      <td>2010-01-05</td>\n",
       "      <td>15.620949</td>\n",
       "      <td>15.637387</td>\n",
       "      <td>15.480475</td>\n",
       "      <td>15.541497</td>\n",
       "      <td>15.541497</td>\n",
       "      <td>120638494</td>\n",
       "    </tr>\n",
       "    <tr>\n",
       "      <th>2</th>\n",
       "      <td>2010-01-06</td>\n",
       "      <td>15.588072</td>\n",
       "      <td>15.588072</td>\n",
       "      <td>15.102393</td>\n",
       "      <td>15.149715</td>\n",
       "      <td>15.149715</td>\n",
       "      <td>159744526</td>\n",
       "    </tr>\n",
       "    <tr>\n",
       "      <th>3</th>\n",
       "      <td>2010-01-07</td>\n",
       "      <td>15.178109</td>\n",
       "      <td>15.193053</td>\n",
       "      <td>14.760922</td>\n",
       "      <td>14.797037</td>\n",
       "      <td>14.797037</td>\n",
       "      <td>257533695</td>\n",
       "    </tr>\n",
       "    <tr>\n",
       "      <th>4</th>\n",
       "      <td>2010-01-08</td>\n",
       "      <td>14.744733</td>\n",
       "      <td>15.024933</td>\n",
       "      <td>14.672753</td>\n",
       "      <td>14.994298</td>\n",
       "      <td>14.994298</td>\n",
       "      <td>189680313</td>\n",
       "    </tr>\n",
       "  </tbody>\n",
       "</table>\n",
       "</div>"
      ],
      "text/plain": [
       "         Date       Open       High        Low      Close  Adj Close  \\\n",
       "0  2010-01-04  15.615220  15.678981  15.547723  15.610239  15.610239   \n",
       "1  2010-01-05  15.620949  15.637387  15.480475  15.541497  15.541497   \n",
       "2  2010-01-06  15.588072  15.588072  15.102393  15.149715  15.149715   \n",
       "3  2010-01-07  15.178109  15.193053  14.760922  14.797037  14.797037   \n",
       "4  2010-01-08  14.744733  15.024933  14.672753  14.994298  14.994298   \n",
       "\n",
       "      Volume  \n",
       "0   78541293  \n",
       "1  120638494  \n",
       "2  159744526  \n",
       "3  257533695  \n",
       "4  189680313  "
      ]
     },
     "execution_count": 12,
     "metadata": {},
     "output_type": "execute_result"
    }
   ],
   "source": [
    "df.head()"
   ]
  },
  {
   "cell_type": "code",
   "execution_count": 13,
   "id": "dca8f34a",
   "metadata": {},
   "outputs": [
    {
     "name": "stdout",
     "output_type": "stream",
     "text": [
      "<class 'pandas.core.frame.DataFrame'>\n",
      "RangeIndex: 3589 entries, 0 to 3588\n",
      "Data columns (total 7 columns):\n",
      " #   Column     Non-Null Count  Dtype  \n",
      "---  ------     --------------  -----  \n",
      " 0   Date       3589 non-null   object \n",
      " 1   Open       3589 non-null   float64\n",
      " 2   High       3589 non-null   float64\n",
      " 3   Low        3589 non-null   float64\n",
      " 4   Close      3589 non-null   float64\n",
      " 5   Adj Close  3589 non-null   float64\n",
      " 6   Volume     3589 non-null   int64  \n",
      "dtypes: float64(5), int64(1), object(1)\n",
      "memory usage: 196.4+ KB\n"
     ]
    }
   ],
   "source": [
    "df.info()"
   ]
  },
  {
   "cell_type": "code",
   "execution_count": 15,
   "id": "df533f8e",
   "metadata": {},
   "outputs": [
    {
     "data": {
      "text/plain": [
       "Date         0\n",
       "Open         0\n",
       "High         0\n",
       "Low          0\n",
       "Close        0\n",
       "Adj Close    0\n",
       "Volume       0\n",
       "dtype: int64"
      ]
     },
     "execution_count": 15,
     "metadata": {},
     "output_type": "execute_result"
    }
   ],
   "source": [
    "df.isnull().sum()"
   ]
  },
  {
   "cell_type": "markdown",
   "id": "f6818098",
   "metadata": {},
   "source": [
    "<h1>\n",
    "\n",
    "There is no missing values. \n",
    "\n",
    "</h1>"
   ]
  },
  {
   "cell_type": "code",
   "execution_count": null,
   "id": "b34b4533",
   "metadata": {},
   "outputs": [],
   "source": []
  }
 ],
 "metadata": {
  "kernelspec": {
   "display_name": "Python 3 (ipykernel)",
   "language": "python",
   "name": "python3"
  },
  "language_info": {
   "codemirror_mode": {
    "name": "ipython",
    "version": 3
   },
   "file_extension": ".py",
   "mimetype": "text/x-python",
   "name": "python",
   "nbconvert_exporter": "python",
   "pygments_lexer": "ipython3",
   "version": "3.11.7"
  }
 },
 "nbformat": 4,
 "nbformat_minor": 5
}
