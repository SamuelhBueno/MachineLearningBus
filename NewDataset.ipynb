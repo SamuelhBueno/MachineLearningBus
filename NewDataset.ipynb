{
 "cells": [
  {
   "cell_type": "code",
   "execution_count": 6,
   "id": "8d181787",
   "metadata": {},
   "outputs": [],
   "source": [
    "import pandas as pd \n",
    "import matplotlib.pyplot as plt \n",
    "import seaborn as sns \n",
    "import numpy as np \n",
    "import warnings \n",
    "import plotly.express as px \n",
    "warnings.filterwarnings('ignore')"
   ]
  },
  {
   "cell_type": "code",
   "execution_count": 7,
   "id": "7a3c2ace",
   "metadata": {},
   "outputs": [],
   "source": [
    "df = pd.read_csv('education_disbled_eu.csv')"
   ]
  },
  {
   "cell_type": "code",
   "execution_count": 8,
   "id": "a179ce9d",
   "metadata": {},
   "outputs": [
    {
     "data": {
      "text/html": [
       "<div>\n",
       "<style scoped>\n",
       "    .dataframe tbody tr th:only-of-type {\n",
       "        vertical-align: middle;\n",
       "    }\n",
       "\n",
       "    .dataframe tbody tr th {\n",
       "        vertical-align: top;\n",
       "    }\n",
       "\n",
       "    .dataframe thead th {\n",
       "        text-align: right;\n",
       "    }\n",
       "</style>\n",
       "<table border=\"1\" class=\"dataframe\">\n",
       "  <thead>\n",
       "    <tr style=\"text-align: right;\">\n",
       "      <th></th>\n",
       "      <th>unit</th>\n",
       "      <th>isced97</th>\n",
       "      <th>hlth_pb</th>\n",
       "      <th>sex</th>\n",
       "      <th>age</th>\n",
       "      <th>time</th>\n",
       "      <th>geo</th>\n",
       "      <th>value</th>\n",
       "    </tr>\n",
       "  </thead>\n",
       "  <tbody>\n",
       "    <tr>\n",
       "      <th>0</th>\n",
       "      <td>THS</td>\n",
       "      <td>ED0-2</td>\n",
       "      <td>PB1040</td>\n",
       "      <td>F</td>\n",
       "      <td>TOTAL</td>\n",
       "      <td>2011</td>\n",
       "      <td>BE</td>\n",
       "      <td>223.746</td>\n",
       "    </tr>\n",
       "    <tr>\n",
       "      <th>1</th>\n",
       "      <td>THS</td>\n",
       "      <td>ED0-2</td>\n",
       "      <td>PB1040</td>\n",
       "      <td>M</td>\n",
       "      <td>TOTAL</td>\n",
       "      <td>2011</td>\n",
       "      <td>BE</td>\n",
       "      <td>249.621</td>\n",
       "    </tr>\n",
       "    <tr>\n",
       "      <th>2</th>\n",
       "      <td>THS</td>\n",
       "      <td>ED0-2</td>\n",
       "      <td>PB1040</td>\n",
       "      <td>T</td>\n",
       "      <td>TOTAL</td>\n",
       "      <td>2011</td>\n",
       "      <td>BE</td>\n",
       "      <td>473.367</td>\n",
       "    </tr>\n",
       "    <tr>\n",
       "      <th>3</th>\n",
       "      <td>THS</td>\n",
       "      <td>ED0-2</td>\n",
       "      <td>PB1040</td>\n",
       "      <td>F</td>\n",
       "      <td>Y15-24</td>\n",
       "      <td>2011</td>\n",
       "      <td>BE</td>\n",
       "      <td>11.757</td>\n",
       "    </tr>\n",
       "    <tr>\n",
       "      <th>4</th>\n",
       "      <td>THS</td>\n",
       "      <td>ED0-2</td>\n",
       "      <td>PB1040</td>\n",
       "      <td>M</td>\n",
       "      <td>Y15-24</td>\n",
       "      <td>2011</td>\n",
       "      <td>BE</td>\n",
       "      <td>26.862</td>\n",
       "    </tr>\n",
       "  </tbody>\n",
       "</table>\n",
       "</div>"
      ],
      "text/plain": [
       "  unit isced97 hlth_pb sex     age  time  geo    value\n",
       "0  THS   ED0-2  PB1040   F   TOTAL  2011  BE   223.746\n",
       "1  THS   ED0-2  PB1040   M   TOTAL  2011  BE   249.621\n",
       "2  THS   ED0-2  PB1040   T   TOTAL  2011  BE   473.367\n",
       "3  THS   ED0-2  PB1040   F  Y15-24  2011  BE    11.757\n",
       "4  THS   ED0-2  PB1040   M  Y15-24  2011  BE    26.862"
      ]
     },
     "execution_count": 8,
     "metadata": {},
     "output_type": "execute_result"
    }
   ],
   "source": [
    "df.head()"
   ]
  },
  {
   "cell_type": "code",
   "execution_count": 9,
   "id": "bef90376",
   "metadata": {},
   "outputs": [
    {
     "name": "stdout",
     "output_type": "stream",
     "text": [
      "<class 'pandas.core.frame.DataFrame'>\n",
      "RangeIndex: 13950 entries, 0 to 13949\n",
      "Data columns (total 8 columns):\n",
      " #   Column   Non-Null Count  Dtype  \n",
      "---  ------   --------------  -----  \n",
      " 0   unit     13950 non-null  object \n",
      " 1   isced97  13950 non-null  object \n",
      " 2   hlth_pb  13950 non-null  object \n",
      " 3   sex      13950 non-null  object \n",
      " 4   age      13950 non-null  object \n",
      " 5   time     13950 non-null  int64  \n",
      " 6   geo      13950 non-null  object \n",
      " 7   value    11060 non-null  float64\n",
      "dtypes: float64(1), int64(1), object(6)\n",
      "memory usage: 872.0+ KB\n"
     ]
    }
   ],
   "source": [
    "df.info()"
   ]
  },
  {
   "cell_type": "code",
   "execution_count": 10,
   "id": "be75372a",
   "metadata": {},
   "outputs": [
    {
     "data": {
      "text/plain": [
       "unit          0\n",
       "isced97       0\n",
       "hlth_pb       0\n",
       "sex           0\n",
       "age           0\n",
       "time          0\n",
       "geo           0\n",
       "value      2890\n",
       "dtype: int64"
      ]
     },
     "execution_count": 10,
     "metadata": {},
     "output_type": "execute_result"
    }
   ],
   "source": [
    "df.isnull().sum()"
   ]
  },
  {
   "cell_type": "code",
   "execution_count": null,
   "id": "d345d620",
   "metadata": {},
   "outputs": [],
   "source": []
  },
  {
   "cell_type": "code",
   "execution_count": null,
   "id": "e3b0b119",
   "metadata": {},
   "outputs": [],
   "source": []
  }
 ],
 "metadata": {
  "kernelspec": {
   "display_name": "Python 3 (ipykernel)",
   "language": "python",
   "name": "python3"
  },
  "language_info": {
   "codemirror_mode": {
    "name": "ipython",
    "version": 3
   },
   "file_extension": ".py",
   "mimetype": "text/x-python",
   "name": "python",
   "nbconvert_exporter": "python",
   "pygments_lexer": "ipython3",
   "version": "3.11.4"
  }
 },
 "nbformat": 4,
 "nbformat_minor": 5
}
